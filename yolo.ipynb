{
 "cells": [
  {
   "cell_type": "code",
   "execution_count": 1,
   "id": "61dc5cf5",
   "metadata": {},
   "outputs": [],
   "source": [
    "from jetcam.csi_camera import CSICamera\n",
    "from jetcam.utils import bgr8_to_jpeg\n",
    "import numpy as np\n",
    "\n",
    "camera = CSICamera(width=416, height=416,capture_fps=10)\n",
    "# créer un thread pour effectuer l'acquisition et la mise à jour des images automatiquement\n",
    "camera.running = True"
   ]
  },
  {
   "cell_type": "code",
   "execution_count": 2,
   "id": "82ad7db9",
   "metadata": {},
   "outputs": [],
   "source": [
    "import cv2\n",
    "from pytorchyolo import detect, models\n",
    "\n",
    "# Load the YOLO model\n",
    "model = models.load_model(\n",
    "  \"data/yolov3-tiny-custom.cfg\",\n",
    "  \"data/yolov3-tiny-custom_4000.weights\")\n"
   ]
  },
  {
   "cell_type": "code",
   "execution_count": 3,
   "id": "62f641fb",
   "metadata": {},
   "outputs": [],
   "source": [
    "from comptage import comptage\n",
    "cpt = comptage()"
   ]
  },
  {
   "cell_type": "code",
   "execution_count": 4,
   "id": "df01969a",
   "metadata": {},
   "outputs": [],
   "source": [
    "def execute(change):\n",
    "    global boxes\n",
    "    # Charger la nouvelle image \n",
    "    image = change['new']\n",
    "    # Convertir l'image en JPEG pour l'affichage\n",
    "    image_w.value = bgr8_to_jpeg(image[:, ::-1, :])\n",
    "    # Convertir en RGB\n",
    "    image = cv2.cvtColor(image, cv2.COLOR_BGR2RGB)\n",
    "    # Passer la nouvelle image dans le modèle\n",
    "    boxes = detect.detect_image(model, image)\n",
    "    \n",
    "    # Detection\n",
    "    det = cpt.counts(boxes,image)"
   ]
  },
  {
   "cell_type": "code",
   "execution_count": 5,
   "id": "874bb624",
   "metadata": {},
   "outputs": [
    {
     "data": {
      "application/vnd.jupyter.widget-view+json": {
       "model_id": "bb064b3261d74c6ca0b60ce418b4d706",
       "version_major": 2,
       "version_minor": 0
      },
      "text/plain": [
       "Image(value=b'', format='jpeg', height='500', width='500')"
      ]
     },
     "metadata": {},
     "output_type": "display_data"
    }
   ],
   "source": [
    "import ipywidgets\n",
    "from IPython.display import display\n",
    "image_w = ipywidgets.Image(format='jpeg',width = 500,height = 500)\n",
    "display(image_w)"
   ]
  },
  {
   "cell_type": "code",
   "execution_count": 6,
   "id": "66b290b2",
   "metadata": {},
   "outputs": [],
   "source": [
    "camera.observe(execute, names='value')"
   ]
  },
  {
   "cell_type": "code",
   "execution_count": 7,
   "id": "e36f84f4",
   "metadata": {},
   "outputs": [],
   "source": [
    "#camera.running = False\n",
    "#camera.cap.release()"
   ]
  },
  {
   "cell_type": "code",
   "execution_count": null,
   "id": "fd2d6876",
   "metadata": {},
   "outputs": [],
   "source": []
  },
  {
   "cell_type": "markdown",
   "id": "8570b4fe",
   "metadata": {},
   "source": [
    "### "
   ]
  }
 ],
 "metadata": {
  "kernelspec": {
   "display_name": "Python 3",
   "language": "python",
   "name": "python3"
  },
  "language_info": {
   "codemirror_mode": {
    "name": "ipython",
    "version": 3
   },
   "file_extension": ".py",
   "mimetype": "text/x-python",
   "name": "python",
   "nbconvert_exporter": "python",
   "pygments_lexer": "ipython3",
   "version": "3.6.9"
  }
 },
 "nbformat": 4,
 "nbformat_minor": 5
}
